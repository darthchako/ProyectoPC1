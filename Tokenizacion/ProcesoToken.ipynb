{
 "cells": [
  {
   "cell_type": "code",
   "execution_count": 1,
   "metadata": {},
   "outputs": [],
   "source": [
    "import re\n",
    "import nltk\n",
    "import pandas as pd"
   ]
  },
  {
   "cell_type": "code",
   "execution_count": 2,
   "metadata": {},
   "outputs": [],
   "source": [
    "df=pd.read_csv(\"https://raw.githubusercontent.com/pantulis/recetario/master/db/recipes.csv\")\n"
   ]
  },
  {
   "cell_type": "code",
   "execution_count": 3,
   "metadata": {},
   "outputs": [
    {
     "data": {
      "text/html": [
       "<div>\n",
       "<style scoped>\n",
       "    .dataframe tbody tr th:only-of-type {\n",
       "        vertical-align: middle;\n",
       "    }\n",
       "\n",
       "    .dataframe tbody tr th {\n",
       "        vertical-align: top;\n",
       "    }\n",
       "\n",
       "    .dataframe thead th {\n",
       "        text-align: right;\n",
       "    }\n",
       "</style>\n",
       "<table border=\"1\" class=\"dataframe\">\n",
       "  <thead>\n",
       "    <tr style=\"text-align: right;\">\n",
       "      <th></th>\n",
       "      <th>id</th>\n",
       "      <th>name</th>\n",
       "      <th>description</th>\n",
       "      <th>user_id</th>\n",
       "      <th>created_at</th>\n",
       "      <th>updated_at</th>\n",
       "    </tr>\n",
       "  </thead>\n",
       "  <tbody>\n",
       "    <tr>\n",
       "      <th>0</th>\n",
       "      <td>10</td>\n",
       "      <td>Ensalada polluda</td>\n",
       "      <td>Mezclar todo y aliñar con aceite, vinagre y sa...</td>\n",
       "      <td>1</td>\n",
       "      <td>2009-10-12 13:56:47</td>\n",
       "      <td>2009-10-12 13:56:48</td>\n",
       "    </tr>\n",
       "    <tr>\n",
       "      <th>1</th>\n",
       "      <td>11</td>\n",
       "      <td>Pollo frito</td>\n",
       "      <td>Calentar el aceite con un par de dientes de aj...</td>\n",
       "      <td>1</td>\n",
       "      <td>2009-10-12 13:56:47</td>\n",
       "      <td>2009-10-12 13:56:48</td>\n",
       "    </tr>\n",
       "    <tr>\n",
       "      <th>2</th>\n",
       "      <td>12</td>\n",
       "      <td>Pez espada a la plancha</td>\n",
       "      <td>Hacer el pez espada a la plancha.</td>\n",
       "      <td>1</td>\n",
       "      <td>2009-10-12 13:56:47</td>\n",
       "      <td>2009-10-12 13:56:48</td>\n",
       "    </tr>\n",
       "  </tbody>\n",
       "</table>\n",
       "</div>"
      ],
      "text/plain": [
       "   id                     name  \\\n",
       "0  10         Ensalada polluda   \n",
       "1  11              Pollo frito   \n",
       "2  12  Pez espada a la plancha   \n",
       "\n",
       "                                         description  user_id  \\\n",
       "0  Mezclar todo y aliñar con aceite, vinagre y sa...        1   \n",
       "1  Calentar el aceite con un par de dientes de aj...        1   \n",
       "2                  Hacer el pez espada a la plancha.        1   \n",
       "\n",
       "            created_at           updated_at  \n",
       "0  2009-10-12 13:56:47  2009-10-12 13:56:48  \n",
       "1  2009-10-12 13:56:47  2009-10-12 13:56:48  \n",
       "2  2009-10-12 13:56:47  2009-10-12 13:56:48  "
      ]
     },
     "execution_count": 3,
     "metadata": {},
     "output_type": "execute_result"
    }
   ],
   "source": [
    "df.head(3)"
   ]
  },
  {
   "cell_type": "markdown",
   "metadata": {},
   "source": [
    "Procedemos a transformar los datos"
   ]
  },
  {
   "cell_type": "code",
   "execution_count": 4,
   "metadata": {},
   "outputs": [],
   "source": [
    "df['description'] = df['description'].astype(str).str.lower()"
   ]
  },
  {
   "cell_type": "code",
   "execution_count": 5,
   "metadata": {},
   "outputs": [
    {
     "data": {
      "text/html": [
       "<div>\n",
       "<style scoped>\n",
       "    .dataframe tbody tr th:only-of-type {\n",
       "        vertical-align: middle;\n",
       "    }\n",
       "\n",
       "    .dataframe tbody tr th {\n",
       "        vertical-align: top;\n",
       "    }\n",
       "\n",
       "    .dataframe thead th {\n",
       "        text-align: right;\n",
       "    }\n",
       "</style>\n",
       "<table border=\"1\" class=\"dataframe\">\n",
       "  <thead>\n",
       "    <tr style=\"text-align: right;\">\n",
       "      <th></th>\n",
       "      <th>id</th>\n",
       "      <th>name</th>\n",
       "      <th>description</th>\n",
       "      <th>user_id</th>\n",
       "      <th>created_at</th>\n",
       "      <th>updated_at</th>\n",
       "      <th>description_token</th>\n",
       "    </tr>\n",
       "  </thead>\n",
       "  <tbody>\n",
       "    <tr>\n",
       "      <th>0</th>\n",
       "      <td>10</td>\n",
       "      <td>Ensalada polluda</td>\n",
       "      <td>mezclar todo y aliñar con aceite, vinagre y sa...</td>\n",
       "      <td>1</td>\n",
       "      <td>2009-10-12 13:56:47</td>\n",
       "      <td>2009-10-12 13:56:48</td>\n",
       "      <td>[mezclar, todo, y, aliñar, con, aceite, vinagr...</td>\n",
       "    </tr>\n",
       "    <tr>\n",
       "      <th>1</th>\n",
       "      <td>11</td>\n",
       "      <td>Pollo frito</td>\n",
       "      <td>calentar el aceite con un par de dientes de aj...</td>\n",
       "      <td>1</td>\n",
       "      <td>2009-10-12 13:56:47</td>\n",
       "      <td>2009-10-12 13:56:48</td>\n",
       "      <td>[calentar, el, aceite, con, un, par, de, dient...</td>\n",
       "    </tr>\n",
       "    <tr>\n",
       "      <th>2</th>\n",
       "      <td>12</td>\n",
       "      <td>Pez espada a la plancha</td>\n",
       "      <td>hacer el pez espada a la plancha.</td>\n",
       "      <td>1</td>\n",
       "      <td>2009-10-12 13:56:47</td>\n",
       "      <td>2009-10-12 13:56:48</td>\n",
       "      <td>[hacer, el, pez, espada, a, la, plancha]</td>\n",
       "    </tr>\n",
       "  </tbody>\n",
       "</table>\n",
       "</div>"
      ],
      "text/plain": [
       "   id                     name  \\\n",
       "0  10         Ensalada polluda   \n",
       "1  11              Pollo frito   \n",
       "2  12  Pez espada a la plancha   \n",
       "\n",
       "                                         description  user_id  \\\n",
       "0  mezclar todo y aliñar con aceite, vinagre y sa...        1   \n",
       "1  calentar el aceite con un par de dientes de aj...        1   \n",
       "2                  hacer el pez espada a la plancha.        1   \n",
       "\n",
       "            created_at           updated_at  \\\n",
       "0  2009-10-12 13:56:47  2009-10-12 13:56:48   \n",
       "1  2009-10-12 13:56:47  2009-10-12 13:56:48   \n",
       "2  2009-10-12 13:56:47  2009-10-12 13:56:48   \n",
       "\n",
       "                                   description_token  \n",
       "0  [mezclar, todo, y, aliñar, con, aceite, vinagr...  \n",
       "1  [calentar, el, aceite, con, un, par, de, dient...  \n",
       "2           [hacer, el, pez, espada, a, la, plancha]  "
      ]
     },
     "execution_count": 5,
     "metadata": {},
     "output_type": "execute_result"
    }
   ],
   "source": [
    "from nltk.tokenize import RegexpTokenizer\n",
    "\n",
    "regexp = RegexpTokenizer('\\w+')\n",
    "\n",
    "df['description_token']=df['description'].apply(regexp.tokenize)\n",
    "df.head(3)"
   ]
  },
  {
   "cell_type": "code",
   "execution_count": 6,
   "metadata": {},
   "outputs": [
    {
     "name": "stderr",
     "output_type": "stream",
     "text": [
      "[nltk_data] Downloading package stopwords to\n",
      "[nltk_data]     C:\\Users\\Alejandro\\AppData\\Roaming\\nltk_data...\n",
      "[nltk_data]   Package stopwords is already up-to-date!\n"
     ]
    },
    {
     "data": {
      "text/plain": [
       "True"
      ]
     },
     "execution_count": 6,
     "metadata": {},
     "output_type": "execute_result"
    }
   ],
   "source": [
    "import nltk\n",
    "nltk.download('stopwords')"
   ]
  },
  {
   "cell_type": "code",
   "execution_count": 7,
   "metadata": {},
   "outputs": [],
   "source": [
    "from nltk.corpus import stopwords\n",
    "\n",
    "stopwords = nltk.corpus.stopwords.words(\"spanish\")\n"
   ]
  },
  {
   "cell_type": "code",
   "execution_count": 8,
   "metadata": {},
   "outputs": [
    {
     "data": {
      "text/html": [
       "<div>\n",
       "<style scoped>\n",
       "    .dataframe tbody tr th:only-of-type {\n",
       "        vertical-align: middle;\n",
       "    }\n",
       "\n",
       "    .dataframe tbody tr th {\n",
       "        vertical-align: top;\n",
       "    }\n",
       "\n",
       "    .dataframe thead th {\n",
       "        text-align: right;\n",
       "    }\n",
       "</style>\n",
       "<table border=\"1\" class=\"dataframe\">\n",
       "  <thead>\n",
       "    <tr style=\"text-align: right;\">\n",
       "      <th></th>\n",
       "      <th>id</th>\n",
       "      <th>name</th>\n",
       "      <th>description</th>\n",
       "      <th>user_id</th>\n",
       "      <th>created_at</th>\n",
       "      <th>updated_at</th>\n",
       "      <th>description_token</th>\n",
       "    </tr>\n",
       "  </thead>\n",
       "  <tbody>\n",
       "    <tr>\n",
       "      <th>0</th>\n",
       "      <td>10</td>\n",
       "      <td>Ensalada polluda</td>\n",
       "      <td>mezclar todo y aliñar con aceite, vinagre y sa...</td>\n",
       "      <td>1</td>\n",
       "      <td>2009-10-12 13:56:47</td>\n",
       "      <td>2009-10-12 13:56:48</td>\n",
       "      <td>[mezclar, aliñar, aceite, vinagre, sal, servir...</td>\n",
       "    </tr>\n",
       "    <tr>\n",
       "      <th>1</th>\n",
       "      <td>11</td>\n",
       "      <td>Pollo frito</td>\n",
       "      <td>calentar el aceite con un par de dientes de aj...</td>\n",
       "      <td>1</td>\n",
       "      <td>2009-10-12 13:56:47</td>\n",
       "      <td>2009-10-12 13:56:48</td>\n",
       "      <td>[calentar, aceite, par, dientes, ajo, pelados,...</td>\n",
       "    </tr>\n",
       "    <tr>\n",
       "      <th>2</th>\n",
       "      <td>12</td>\n",
       "      <td>Pez espada a la plancha</td>\n",
       "      <td>hacer el pez espada a la plancha.</td>\n",
       "      <td>1</td>\n",
       "      <td>2009-10-12 13:56:47</td>\n",
       "      <td>2009-10-12 13:56:48</td>\n",
       "      <td>[hacer, pez, espada, plancha]</td>\n",
       "    </tr>\n",
       "  </tbody>\n",
       "</table>\n",
       "</div>"
      ],
      "text/plain": [
       "   id                     name  \\\n",
       "0  10         Ensalada polluda   \n",
       "1  11              Pollo frito   \n",
       "2  12  Pez espada a la plancha   \n",
       "\n",
       "                                         description  user_id  \\\n",
       "0  mezclar todo y aliñar con aceite, vinagre y sa...        1   \n",
       "1  calentar el aceite con un par de dientes de aj...        1   \n",
       "2                  hacer el pez espada a la plancha.        1   \n",
       "\n",
       "            created_at           updated_at  \\\n",
       "0  2009-10-12 13:56:47  2009-10-12 13:56:48   \n",
       "1  2009-10-12 13:56:47  2009-10-12 13:56:48   \n",
       "2  2009-10-12 13:56:47  2009-10-12 13:56:48   \n",
       "\n",
       "                                   description_token  \n",
       "0  [mezclar, aliñar, aceite, vinagre, sal, servir...  \n",
       "1  [calentar, aceite, par, dientes, ajo, pelados,...  \n",
       "2                      [hacer, pez, espada, plancha]  "
      ]
     },
     "execution_count": 8,
     "metadata": {},
     "output_type": "execute_result"
    }
   ],
   "source": [
    "df['description_token'] = df['description_token'].apply(lambda x: [item for item in x if item not in stopwords])\n",
    "df.head(3)"
   ]
  },
  {
   "cell_type": "code",
   "execution_count": 9,
   "metadata": {},
   "outputs": [
    {
     "data": {
      "text/html": [
       "<div>\n",
       "<style scoped>\n",
       "    .dataframe tbody tr th:only-of-type {\n",
       "        vertical-align: middle;\n",
       "    }\n",
       "\n",
       "    .dataframe tbody tr th {\n",
       "        vertical-align: top;\n",
       "    }\n",
       "\n",
       "    .dataframe thead th {\n",
       "        text-align: right;\n",
       "    }\n",
       "</style>\n",
       "<table border=\"1\" class=\"dataframe\">\n",
       "  <thead>\n",
       "    <tr style=\"text-align: right;\">\n",
       "      <th></th>\n",
       "      <th>description</th>\n",
       "      <th>description_token</th>\n",
       "      <th>description_string</th>\n",
       "    </tr>\n",
       "  </thead>\n",
       "  <tbody>\n",
       "    <tr>\n",
       "      <th>0</th>\n",
       "      <td>mezclar todo y aliñar con aceite, vinagre y sa...</td>\n",
       "      <td>[mezclar, aliñar, aceite, vinagre, sal, servir...</td>\n",
       "      <td>mezclar aliñar aceite vinagre sal servir fresq...</td>\n",
       "    </tr>\n",
       "    <tr>\n",
       "      <th>1</th>\n",
       "      <td>calentar el aceite con un par de dientes de aj...</td>\n",
       "      <td>[calentar, aceite, par, dientes, ajo, pelados,...</td>\n",
       "      <td>calentar aceite par dientes ajo pelados freír ...</td>\n",
       "    </tr>\n",
       "    <tr>\n",
       "      <th>2</th>\n",
       "      <td>hacer el pez espada a la plancha.</td>\n",
       "      <td>[hacer, pez, espada, plancha]</td>\n",
       "      <td>hacer pez espada plancha</td>\n",
       "    </tr>\n",
       "    <tr>\n",
       "      <th>3</th>\n",
       "      <td>cortar las patatas en daditos.  freír las pata...</td>\n",
       "      <td>[cortar, patatas, daditos, freír, patatas, abu...</td>\n",
       "      <td>cortar patatas daditos freír patatas abundante...</td>\n",
       "    </tr>\n",
       "    <tr>\n",
       "      <th>4</th>\n",
       "      <td>hacer tortillas a la francesa con poco aceite....</td>\n",
       "      <td>[hacer, tortillas, francesa, aceite, huevo, si...</td>\n",
       "      <td>hacer tortillas francesa aceite huevo queso pa...</td>\n",
       "    </tr>\n",
       "  </tbody>\n",
       "</table>\n",
       "</div>"
      ],
      "text/plain": [
       "                                         description  \\\n",
       "0  mezclar todo y aliñar con aceite, vinagre y sa...   \n",
       "1  calentar el aceite con un par de dientes de aj...   \n",
       "2                  hacer el pez espada a la plancha.   \n",
       "3  cortar las patatas en daditos.  freír las pata...   \n",
       "4  hacer tortillas a la francesa con poco aceite....   \n",
       "\n",
       "                                   description_token  \\\n",
       "0  [mezclar, aliñar, aceite, vinagre, sal, servir...   \n",
       "1  [calentar, aceite, par, dientes, ajo, pelados,...   \n",
       "2                      [hacer, pez, espada, plancha]   \n",
       "3  [cortar, patatas, daditos, freír, patatas, abu...   \n",
       "4  [hacer, tortillas, francesa, aceite, huevo, si...   \n",
       "\n",
       "                                  description_string  \n",
       "0  mezclar aliñar aceite vinagre sal servir fresq...  \n",
       "1  calentar aceite par dientes ajo pelados freír ...  \n",
       "2                           hacer pez espada plancha  \n",
       "3  cortar patatas daditos freír patatas abundante...  \n",
       "4  hacer tortillas francesa aceite huevo queso pa...  "
      ]
     },
     "execution_count": 9,
     "metadata": {},
     "output_type": "execute_result"
    }
   ],
   "source": [
    "df['description_string'] = df['description_token'].apply(lambda x: ' '.join([item for item in x if len(item)>2]))\n",
    "\n",
    "df[['description', 'description_token', 'description_string']].head()\n"
   ]
  },
  {
   "cell_type": "code",
   "execution_count": 10,
   "metadata": {},
   "outputs": [],
   "source": [
    "all_words = ' '.join([word for word in df['description_string']])"
   ]
  },
  {
   "cell_type": "code",
   "execution_count": 11,
   "metadata": {},
   "outputs": [
    {
     "name": "stderr",
     "output_type": "stream",
     "text": [
      "[nltk_data] Downloading package wordnet to\n",
      "[nltk_data]     C:\\Users\\Alejandro\\AppData\\Roaming\\nltk_data...\n",
      "[nltk_data]   Package wordnet is already up-to-date!\n",
      "[nltk_data] Downloading package omw-1.4 to\n",
      "[nltk_data]     C:\\Users\\Alejandro\\AppData\\Roaming\\nltk_data...\n",
      "[nltk_data]   Package omw-1.4 is already up-to-date!\n"
     ]
    }
   ],
   "source": [
    "from nltk.stem import WordNetLemmatizer\n",
    "nltk.download('wordnet')\n",
    "nltk.download('omw-1.4')\n",
    "\n",
    "wordnet_lem = WordNetLemmatizer()\n",
    "\n",
    "df['text_string_lem'] = df['description_string'].apply(wordnet_lem.lemmatize)"
   ]
  },
  {
   "cell_type": "code",
   "execution_count": 12,
   "metadata": {},
   "outputs": [],
   "source": [
    "df['text_string_lem'].head()\n",
    "df['text_string_lem'].to_csv('ejemplo.csv')"
   ]
  }
 ],
 "metadata": {
  "kernelspec": {
   "display_name": "Python 3.9.15 ('Computacion')",
   "language": "python",
   "name": "python3"
  },
  "language_info": {
   "codemirror_mode": {
    "name": "ipython",
    "version": 3
   },
   "file_extension": ".py",
   "mimetype": "text/x-python",
   "name": "python",
   "nbconvert_exporter": "python",
   "pygments_lexer": "ipython3",
   "version": "3.9.15"
  },
  "orig_nbformat": 4,
  "vscode": {
   "interpreter": {
    "hash": "f93724d0b3d3f8e470888321a2e989833e86534343c5675958f2cad2e033f77a"
   }
  }
 },
 "nbformat": 4,
 "nbformat_minor": 2
}
